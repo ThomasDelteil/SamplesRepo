{
 "cells": [
  {
   "cell_type": "markdown",
   "metadata": {},
   "source": [
    "# Convolutional Neural Networks in ``gluon``\n",
    "\n",
    "Now let's see how succinctly we can express a convolutional neural network using ``gluon``. You might be relieved to find out that this too requires hardly any more code than logistic regression. "
   ]
  },
  {
   "cell_type": "code",
   "execution_count": 1,
   "metadata": {
    "collapsed": true
   },
   "outputs": [
    {
     "name": "stderr",
     "output_type": "stream",
     "text": [
      "/home/ec2-user/anaconda3/lib/python3.6/site-packages/urllib3/contrib/pyopenssl.py:46: DeprecationWarning: OpenSSL.rand is deprecated - you should use os.urandom instead\n",
      "  import OpenSSL.SSL\n"
     ]
    }
   ],
   "source": [
    "from __future__ import print_function\n",
    "import numpy as np\n",
    "import mxnet as mx\n",
    "from mxnet import nd, autograd, gluon\n",
    "import multiprocessing\n",
    "mx.random.seed(1)"
   ]
  },
  {
   "cell_type": "markdown",
   "metadata": {},
   "source": [
    "## Set the context"
   ]
  },
  {
   "cell_type": "code",
   "execution_count": 2,
   "metadata": {},
   "outputs": [
    {
     "data": {
      "text/plain": [
       "'1.1.0'"
      ]
     },
     "execution_count": 2,
     "metadata": {},
     "output_type": "execute_result"
    }
   ],
   "source": [
    "mx.__version__"
   ]
  },
  {
   "cell_type": "code",
   "execution_count": 3,
   "metadata": {},
   "outputs": [],
   "source": [
    "NUM_WORKERS = multiprocessing.cpu_count()"
   ]
  },
  {
   "cell_type": "code",
   "execution_count": 4,
   "metadata": {
    "collapsed": true
   },
   "outputs": [],
   "source": [
    "ctx = mx.gpu()\n",
    "#ctx = mx.cpu()"
   ]
  },
  {
   "cell_type": "markdown",
   "metadata": {},
   "source": [
    "## Grab the MNIST dataset"
   ]
  },
  {
   "cell_type": "code",
   "execution_count": 18,
   "metadata": {
    "collapsed": true
   },
   "outputs": [],
   "source": [
    "batch_size = 128\n",
    "num_inputs = 784\n",
    "num_outputs = 10\n",
    "def transform(data, label):\n",
    "    return nd.transpose(data.astype(np.float32), (2,0,1))/255, label.astype(np.float32)\n",
    "train_data = gluon.data.DataLoader(gluon.data.vision.MNIST(train=True, transform=transform),\n",
    "                                      batch_size, shuffle=True, num_workers=NUM_WORKERS*3)\n",
    "test_data = gluon.data.DataLoader(gluon.data.vision.MNIST(train=False, transform=transform),\n",
    "                                     batch_size, shuffle=False, num_workers=NUM_WORKERS*3)"
   ]
  },
  {
   "cell_type": "markdown",
   "metadata": {},
   "source": [
    "## Define a convolutional neural network\n",
    "\n",
    "Again, a few lines here is all we need in order to change the model. Let's add a couple of convolutional layers using ``gluon.nn``."
   ]
  },
  {
   "cell_type": "code",
   "execution_count": 6,
   "metadata": {
    "collapsed": true
   },
   "outputs": [],
   "source": [
    "num_fc = 512\n",
    "net = gluon.nn.Sequential()\n",
    "with net.name_scope():\n",
    "    net.add(gluon.nn.Conv2D(channels=20, kernel_size=5, activation='relu'))\n",
    "    net.add(gluon.nn.MaxPool2D(pool_size=2, strides=2))            \n",
    "    net.add(gluon.nn.Conv2D(channels=50, kernel_size=5, activation='relu'))\n",
    "    net.add(gluon.nn.MaxPool2D(pool_size=2, strides=2))\n",
    "    # The Flatten layer collapses all axis, except the first one, into one axis.\n",
    "    net.add(gluon.nn.Flatten())\n",
    "    net.add(gluon.nn.Dense(num_fc, activation=\"relu\"))\n",
    "    net.add(gluon.nn.Dense(num_outputs))"
   ]
  },
  {
   "cell_type": "markdown",
   "metadata": {},
   "source": [
    "## Parameter initialization\n"
   ]
  },
  {
   "cell_type": "code",
   "execution_count": 7,
   "metadata": {
    "collapsed": true
   },
   "outputs": [],
   "source": [
    "net.collect_params().initialize(mx.init.Xavier(magnitude=2.24), ctx=ctx)"
   ]
  },
  {
   "cell_type": "markdown",
   "metadata": {},
   "source": [
    "## Softmax cross-entropy Loss"
   ]
  },
  {
   "cell_type": "code",
   "execution_count": 8,
   "metadata": {
    "collapsed": true
   },
   "outputs": [],
   "source": [
    "softmax_cross_entropy = gluon.loss.SoftmaxCrossEntropyLoss()"
   ]
  },
  {
   "cell_type": "markdown",
   "metadata": {},
   "source": [
    "## Optimizer"
   ]
  },
  {
   "cell_type": "code",
   "execution_count": 9,
   "metadata": {
    "collapsed": true
   },
   "outputs": [],
   "source": [
    "trainer = gluon.Trainer(net.collect_params(), 'sgd', {'learning_rate': .1})"
   ]
  },
  {
   "cell_type": "markdown",
   "metadata": {},
   "source": [
    "## Write evaluation loop to calculate accuracy"
   ]
  },
  {
   "cell_type": "code",
   "execution_count": 10,
   "metadata": {},
   "outputs": [],
   "source": [
    "def check_label_shapes(labels, preds, wrap=False, shape=False):\n",
    "    \"\"\"Helper function for checking shape of label and prediction\n",
    "    Parameters\n",
    "    ----------\n",
    "    labels : list of `NDArray`\n",
    "        The labels of the data.\n",
    "    preds : list of `NDArray`\n",
    "        Predicted values.\n",
    "    wrap : boolean\n",
    "        If True, wrap labels/preds in a list if they are single NDArray\n",
    "    shape : boolean\n",
    "        If True, check the shape of labels and preds;\n",
    "        Otherwise only check their length.\n",
    "    \"\"\"\n",
    "    if not shape:\n",
    "        label_shape, pred_shape = len(labels), len(preds)\n",
    "    else:\n",
    "        label_shape, pred_shape = labels.shape, preds.shape\n",
    "\n",
    "    if label_shape != pred_shape:\n",
    "        raise ValueError(\"Shape of labels {} does not match shape of \"\n",
    "                         \"predictions {}\".format(label_shape, pred_shape))\n",
    "\n",
    "    if wrap:\n",
    "        if isinstance(labels, nd.ndarray.NDArray):\n",
    "            labels = [labels]\n",
    "        if isinstance(preds, nd.ndarray.NDArray):\n",
    "            preds = [preds]\n",
    "\n",
    "    return labels, preds"
   ]
  },
  {
   "cell_type": "code",
   "execution_count": 11,
   "metadata": {},
   "outputs": [],
   "source": [
    "class EvalMetric(object):\n",
    "    \"\"\"Base class for all evaluation metrics.\n",
    "    .. note::\n",
    "        This is a base class that provides common metric interfaces.\n",
    "        One should not use this class directly, but instead create new metric\n",
    "        classes that extend it.\n",
    "    Parameters\n",
    "    ----------\n",
    "    name : str\n",
    "        Name of this metric instance for display.\n",
    "    output_names : list of str, or None\n",
    "        Name of predictions that should be used when updating with update_dict.\n",
    "        By default include all predictions.\n",
    "    label_names : list of str, or None\n",
    "        Name of labels that should be used when updating with update_dict.\n",
    "        By default include all labels.\n",
    "    \"\"\"\n",
    "    def __init__(self, name, output_names=None,\n",
    "                 label_names=None, ctx=mx.cpu(), **kwargs):\n",
    "        self.name = str(name)\n",
    "        self.output_names = output_names\n",
    "        self.label_names = label_names\n",
    "        self.ctx = ctx\n",
    "        self._kwargs = kwargs        \n",
    "        self.reset()\n",
    "\n",
    "    def __str__(self):\n",
    "        return \"EvalMetric: {}\".format(dict(self.get_name_value()))\n",
    "\n",
    "    def get_config(self):\n",
    "        \"\"\"Save configurations of metric. Can be recreated\n",
    "        from configs with metric.create(**config)\n",
    "        \"\"\"\n",
    "        config = self._kwargs.copy()\n",
    "        config.update({\n",
    "            'metric': self.__class__.__name__,\n",
    "            'name': self.name,\n",
    "            'output_names': self.output_names,\n",
    "            'label_names': self.label_names})\n",
    "        return config\n",
    "\n",
    "    def update_dict(self, label, pred):\n",
    "        \"\"\"Update the internal evaluation with named label and pred\n",
    "        Parameters\n",
    "        ----------\n",
    "        labels : OrderedDict of str -> NDArray\n",
    "            name to array mapping for labels.\n",
    "        preds : list of NDArray\n",
    "            name to array mapping of predicted outputs.\n",
    "        \"\"\"\n",
    "        if self.output_names is not None:\n",
    "            pred = [pred[name] for name in self.output_names]\n",
    "        else:\n",
    "            pred = list(pred.values())\n",
    "\n",
    "        if self.label_names is not None:\n",
    "            label = [label[name] for name in self.label_names]\n",
    "        else:\n",
    "            label = list(label.values())\n",
    "\n",
    "        self.update(label, pred)\n",
    "\n",
    "    def update(self, labels, preds):\n",
    "        \"\"\"Updates the internal evaluation result.\n",
    "        Parameters\n",
    "        ----------\n",
    "        labels : list of `NDArray`\n",
    "            The labels of the data.\n",
    "        preds : list of `NDArray`\n",
    "            Predicted values.\n",
    "        \"\"\"\n",
    "        raise NotImplementedError()\n",
    "\n",
    "    def reset(self):\n",
    "        \"\"\"Resets the internal evaluation result to initial state.\"\"\"\n",
    "        self.num_inst = nd.zeros(1, ctx=self.ctx, dtype=np.int32)\n",
    "        self.sum_metric = nd.zeros(1, ctx=self.ctx, dtype=np.int32)\n",
    "\n",
    "    def get(self):\n",
    "        \"\"\"Gets the current evaluation result.\n",
    "        Returns\n",
    "        -------\n",
    "        names : list of str\n",
    "           Name of the metrics.\n",
    "        values : list of float\n",
    "           Value of the evaluations.\n",
    "        \"\"\"\n",
    "        if self.num_inst == 0:\n",
    "            return (self.name, float('nan'))\n",
    "        else:\n",
    "            return (self.name, (self.sum_metric.astype(np.float64) / self.num_inst.astype(np.float64)).asscalar())\n",
    "\n",
    "    def get_name_value(self):\n",
    "        \"\"\"Returns zipped name and value pairs.\n",
    "        Returns\n",
    "        -------\n",
    "        list of tuples\n",
    "            A (name, value) tuple list.\n",
    "        \"\"\"\n",
    "        name, value = self.get()\n",
    "        if not isinstance(name, list):\n",
    "            name = [name]\n",
    "        if not isinstance(value, list):\n",
    "            value = [value]\n",
    "        return list(zip(name, value))\n",
    "\n",
    "class Accuracy(EvalMetric):\n",
    "    def __init__(self, axis=1, name='accuracy',\n",
    "                 output_names=None, label_names=None, ctx=mx.cpu(), wait_to_read=False):\n",
    "        super(Accuracy, self).__init__(\n",
    "            name, axis=axis,\n",
    "            output_names=output_names, label_names=label_names, ctx=ctx)\n",
    "        self.axis = axis\n",
    "        self.wait_to_read=wait_to_read\n",
    "\n",
    "    def update(self, labels, preds):\n",
    "        \"\"\"Updates the internal evaluation result.\n",
    "        Parameters\n",
    "        ----------\n",
    "        labels : list of `NDArray`\n",
    "            The labels of the data with class indices as values, one per sample.\n",
    "        preds : list of `NDArray`\n",
    "            Prediction values for samples. Each prediction value can either be the class index,\n",
    "            or a vector of likelihoods for all classes.\n",
    "        \"\"\"\n",
    "        if self.wait_to_read:\n",
    "            preds.wait_to_read()\n",
    "            \n",
    "        labels, preds = check_label_shapes(labels, preds, True)\n",
    "       \n",
    "        for label, pred_label in zip(labels, preds):\n",
    "            if pred_label.shape != label.shape:\n",
    "                pred_label = ndarray.argmax(pred_label, axis=self.axis)\n",
    "            pred_label = pred_label.astype('int32')\n",
    "            label = label.astype('int32')\n",
    "\n",
    "            self.sum_metric += (pred_label.flatten() == label.flatten()).sum()\n",
    "            self.num_inst += len(pred_label.flatten())\n",
    "        \n"
   ]
  },
  {
   "cell_type": "code",
   "execution_count": 12,
   "metadata": {},
   "outputs": [],
   "source": [
    "class Accuracy(EvalMetric):\n",
    "    def __init__(self, axis=1, name='accuracy',\n",
    "                 output_names=None, label_names=None, ctx=mx.cpu(), wait_to_read=False):\n",
    "        super(Accuracy, self).__init__(\n",
    "            name, axis=axis,\n",
    "            output_names=output_names, label_names=label_names, ctx=ctx)\n",
    "        self.axis = axis\n",
    "        self.wait_to_read=wait_to_read\n",
    "\n",
    "    def update(self, labels, preds):\n",
    "        \"\"\"Updates the internal evaluation result.\n",
    "        Parameters\n",
    "        ----------\n",
    "        labels : list of `NDArray`\n",
    "            The labels of the data with class indices as values, one per sample.\n",
    "        preds : list of `NDArray`\n",
    "            Prediction values for samples. Each prediction value can either be the class index,\n",
    "            or a vector of likelihoods for all classes.\n",
    "        \"\"\"\n",
    "        if self.wait_to_read:\n",
    "            preds.wait_to_read()\n",
    "            \n",
    "        labels, preds = check_label_shapes(labels, preds, True)\n",
    "       \n",
    "        for label, pred_label in zip(labels, preds):\n",
    "            if pred_label.shape != label.shape:\n",
    "                pred_label = ndarray.argmax(pred_label, axis=self.axis)\n",
    "            pred_label = pred_label.astype('int32')\n",
    "            label = label.astype('int32')\n",
    "\n",
    "            self.sum_metric += (pred_label.flatten() == label.flatten()).sum()\n",
    "            self.num_inst += len(pred_label.flatten())\n",
    "        \n"
   ]
  },
  {
   "cell_type": "code",
   "execution_count": 13,
   "metadata": {
    "collapsed": true
   },
   "outputs": [],
   "source": [
    "def evaluate_accuracy_non_blocking(data_iterator, net):\n",
    "    acc = Accuracy(ctx=ctx, wait_to_read=False)\n",
    "    for i, (data, label) in enumerate(data_iterator):\n",
    "        data = data.as_in_context(ctx)\n",
    "        label = label.as_in_context(ctx)\n",
    "        output = net(data)\n",
    "        predictions = nd.argmax(output, axis=1)\n",
    "        acc.update(preds=predictions, labels=label)\n",
    "    return acc.get()[1]"
   ]
  },
  {
   "cell_type": "code",
   "execution_count": 14,
   "metadata": {},
   "outputs": [],
   "source": [
    "def evaluate_accuracy_wait_to_read(data_iterator, net):\n",
    "    acc = Accuracy(ctx=ctx, wait_to_read=True)\n",
    "    for i, (data, label) in enumerate(data_iterator):\n",
    "        data = data.as_in_context(ctx)\n",
    "        label = label.as_in_context(ctx)\n",
    "        output = net(data)\n",
    "        predictions = nd.argmax(output, axis=1)\n",
    "        acc.update(preds=predictions, labels=label)\n",
    "    return acc.get()[1]"
   ]
  },
  {
   "cell_type": "code",
   "execution_count": 15,
   "metadata": {},
   "outputs": [],
   "source": [
    "def evaluate_accuracy_blocking(data_iterator, net):\n",
    "    acc = mx.metric.Accuracy()\n",
    "    for i, (data, label) in enumerate(data_iterator):\n",
    "        data = data.as_in_context(ctx)\n",
    "        label = label.as_in_context(ctx)\n",
    "        output = net(data)\n",
    "        predictions = nd.argmax(output, axis=1)\n",
    "        acc.update(preds=predictions, labels=label)\n",
    "    return acc.get()[1]"
   ]
  },
  {
   "cell_type": "markdown",
   "metadata": {},
   "source": [
    "## Training Loop"
   ]
  },
  {
   "cell_type": "code",
   "execution_count": 17,
   "metadata": {},
   "outputs": [
    {
     "name": "stdout",
     "output_type": "stream",
     "text": [
      "Epoch 0. Loss: 0.047929, Train_acc 0.985916666667, Test_acc 0.9853\n",
      "CPU times: user 8.63 s, sys: 2.37 s, total: 11 s\n",
      "Wall time: 9.54 s\n"
     ]
    }
   ],
   "source": [
    "%%time\n",
    "epochs = 1\n",
    "smoothing_constant = .01\n",
    "\n",
    "for e in range(epochs):\n",
    "    for i, (data, label) in enumerate(train_data):\n",
    "        data = data.as_in_context(ctx)\n",
    "        label = label.as_in_context(ctx)\n",
    "        with autograd.record():\n",
    "            output = net(data)\n",
    "            loss = softmax_cross_entropy(output, label)\n",
    "        loss.backward()\n",
    "        trainer.step(data.shape[0])\n",
    "        \n",
    "        ##########################\n",
    "        #  Keep a moving average of the losses\n",
    "        ##########################\n",
    "        curr_loss = nd.mean(loss)\n",
    "        moving_loss = (curr_loss if ((i == 0) and (e == 0)) \n",
    "                       else (1 - smoothing_constant) * moving_loss + smoothing_constant * curr_loss)\n",
    "        \n",
    "    test_accuracy = evaluate_accuracy_non_blocking(test_data, net)\n",
    "    train_accuracy = evaluate_accuracy_non_blocking(train_data, net)\n",
    "    print(\"Epoch %s. Loss: %s, Train_acc %s, Test_acc %s\" % (e, moving_loss.asscalar(), train_accuracy, test_accuracy))    "
   ]
  },
  {
   "cell_type": "markdown",
   "metadata": {},
   "source": [
    "blocking: 43.6s\n",
    "non-blocking: "
   ]
  },
  {
   "cell_type": "code",
   "execution_count": 92,
   "metadata": {},
   "outputs": [
    {
     "name": "stdout",
     "output_type": "stream",
     "text": [
      "CPU times: user 15.6 s, sys: 2.48 s, total: 18.1 s\n",
      "Wall time: 15.3 s\n"
     ]
    },
    {
     "data": {
      "text/plain": [
       "0.94853333333333334"
      ]
     },
     "execution_count": 92,
     "metadata": {},
     "output_type": "execute_result"
    }
   ],
   "source": [
    "%%time\n",
    "evaluate_accuracy_blocking(train_data, net)"
   ]
  },
  {
   "cell_type": "code",
   "execution_count": 90,
   "metadata": {},
   "outputs": [
    {
     "name": "stdout",
     "output_type": "stream",
     "text": [
      "CPU times: user 3.32 s, sys: 596 ms, total: 3.92 s\n",
      "Wall time: 3.2 s\n"
     ]
    },
    {
     "data": {
      "text/plain": [
       "0.94853333333333334"
      ]
     },
     "execution_count": 90,
     "metadata": {},
     "output_type": "execute_result"
    }
   ],
   "source": [
    "%%time\n",
    "evaluate_accuracy_non_blocking(train_data, net)"
   ]
  },
  {
   "cell_type": "code",
   "execution_count": 91,
   "metadata": {},
   "outputs": [
    {
     "name": "stdout",
     "output_type": "stream",
     "text": [
      "CPU times: user 3.18 s, sys: 696 ms, total: 3.87 s\n",
      "Wall time: 3.43 s\n"
     ]
    },
    {
     "data": {
      "text/plain": [
       "0.94853333333333334"
      ]
     },
     "execution_count": 91,
     "metadata": {},
     "output_type": "execute_result"
    }
   ],
   "source": [
    "%%time\n",
    "evaluate_accuracy_wait_to_read(train_data, net)"
   ]
  },
  {
   "cell_type": "markdown",
   "metadata": {},
   "source": [
    "## Conclusion\n",
    "\n",
    "You might notice that by using ``gluon``, we get code that runs much faster whether on CPU or GPU. That's largely because ``gluon`` can call down to highly optimized layers that have been written in C++. "
   ]
  },
  {
   "cell_type": "markdown",
   "metadata": {},
   "source": [
    "## Next\n",
    "[Deep convolutional networks (AlexNet)](../chapter04_convolutional-neural-networks/deep-cnns-alexnet.ipynb)"
   ]
  },
  {
   "cell_type": "markdown",
   "metadata": {},
   "source": [
    "For whinges or inquiries, [open an issue on  GitHub.](https://github.com/zackchase/mxnet-the-straight-dope)"
   ]
  }
 ],
 "metadata": {
  "kernelspec": {
   "display_name": "Python 3",
   "language": "python",
   "name": "python3"
  },
  "language_info": {
   "codemirror_mode": {
    "name": "ipython",
    "version": 3
   },
   "file_extension": ".py",
   "mimetype": "text/x-python",
   "name": "python",
   "nbconvert_exporter": "python",
   "pygments_lexer": "ipython3",
   "version": "3.6.3"
  }
 },
 "nbformat": 4,
 "nbformat_minor": 2
}
